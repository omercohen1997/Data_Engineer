{
 "cells": [
  {
   "cell_type": "code",
   "execution_count": 6,
   "metadata": {},
   "outputs": [
    {
     "name": "stdout",
     "output_type": "stream",
     "text": [
      "True\n",
      "True\n",
      "False\n",
      "False\n"
     ]
    }
   ],
   "source": [
    "def fsm_acceptor(input_string):\n",
    "    transitions = {\n",
    "        'S0': {'0': 'S1', '1': 'REJECT'},\n",
    "        'S1': {'0': 'S2', '1': 'S1'},\n",
    "        'S2': {'0': 'S2', '1': 'S1'},\n",
    "    }\n",
    "    state = 'S0'\n",
    "    for char in input_string:\n",
    "        state = transitions[state].get(char, 'REJECT')\n",
    "        if state == 'REJECT':\n",
    "            return False\n",
    "    return state == 'S2'\n",
    "\n",
    "print(fsm_acceptor(\"00\"))        \n",
    "print(fsm_acceptor(\"01110\"))     \n",
    "print(fsm_acceptor(\"01\"))        \n",
    "print(fsm_acceptor(\"10\"))        \n"
   ]
  },
  {
   "cell_type": "code",
   "execution_count": 7,
   "metadata": {},
   "outputs": [
    {
     "name": "stdout",
     "output_type": "stream",
     "text": [
      "True\n",
      "True\n",
      "False\n",
      "False\n"
     ]
    }
   ],
   "source": [
    "# as regex\n",
    "import re\n",
    "\n",
    "def fsm_acceptor(input_string):\n",
    "    # Regex pattern to match strings that start and end with '0' (two chars at least),\n",
    "    # with any 0/1 in between\n",
    "    # good: 00 , 010, 0111000, 000100 \n",
    "    # no good: 0, 01, 10, 01001\n",
    "    pattern = r\"^0[01]*0$\"\n",
    "    return bool(re.match(pattern, input_string))\n",
    "\n",
    "print(fsm_acceptor(\"00\"))        \n",
    "print(fsm_acceptor(\"01110\"))    \n",
    "print(fsm_acceptor(\"01\"))        \n",
    "print(fsm_acceptor(\"0\"))         \n"
   ]
  },
  {
   "cell_type": "code",
   "execution_count": 8,
   "metadata": {},
   "outputs": [
    {
     "name": "stdout",
     "output_type": "stream",
     "text": [
      "Balanced\n"
     ]
    }
   ],
   "source": [
    "# regex to check for balanced parentheses\n",
    "import re  # Import regex module\n",
    "s = \"(())()\"  # Input string\n",
    "\n",
    "# Remove pairs of '()' until no more are found\n",
    "while re.search(r'\\(\\)', s):  \n",
    "    s = re.sub(r'\\(\\)', '', s)\n",
    "\n",
    "# If the string is empty, the parentheses are balanced\n",
    "print(\"Balanced\" if not s else \"Unbalanced\")"
   ]
  },
  {
   "cell_type": "code",
   "execution_count": 9,
   "metadata": {},
   "outputs": [
    {
     "name": "stdout",
     "output_type": "stream",
     "text": [
      "True\n",
      "False\n",
      "True\n"
     ]
    }
   ],
   "source": [
    "import re\n",
    "\n",
    "def check_balanced_parentheses(expression):\n",
    "    while re.search(r'\\(\\)', expression):\n",
    "        expression = re.sub(r'\\(\\)', '', expression)\n",
    "    return not expression  \n",
    "\n",
    "# Test cases\n",
    "print(check_balanced_parentheses(\"(())\"))      # True\n",
    "print(check_balanced_parentheses(\"(()\"))       # False\n",
    "print(check_balanced_parentheses(\"(())()\"))   "
   ]
  },
  {
   "cell_type": "code",
   "execution_count": null,
   "metadata": {},
   "outputs": [],
   "source": []
  }
 ],
 "metadata": {
  "kernelspec": {
   "display_name": "Python 3",
   "language": "python",
   "name": "python3"
  },
  "language_info": {
   "codemirror_mode": {
    "name": "ipython",
    "version": 3
   },
   "file_extension": ".py",
   "mimetype": "text/x-python",
   "name": "python",
   "nbconvert_exporter": "python",
   "pygments_lexer": "ipython3",
   "version": "3.8.10"
  }
 },
 "nbformat": 4,
 "nbformat_minor": 2
}
