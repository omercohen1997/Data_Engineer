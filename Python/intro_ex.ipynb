{
 "cells": [
  {
   "cell_type": "code",
   "execution_count": 31,
   "metadata": {},
   "outputs": [
    {
     "name": "stdout",
     "output_type": "stream",
     "text": [
      "The character 's' appears 0 times in the string.\n"
     ]
    }
   ],
   "source": [
    "def count_char_in_string (str , char):\n",
    "       return str.count(char)\n",
    "\n",
    "\n",
    "string = \"hello world\"\n",
    "character = \"s\"\n",
    "result = count_char_in_string(string, character)\n",
    "print(f\"The character '{character}' appears {result} times in the string.\")"
   ]
  },
  {
   "cell_type": "code",
   "execution_count": null,
   "metadata": {},
   "outputs": [
    {
     "name": "stdout",
     "output_type": "stream",
     "text": [
      "4321\n",
      "4321.765\n",
      "8765.321\n",
      "6789\n"
     ]
    }
   ],
   "source": [
    "def flip_number(num):\n",
    "    num_str = str(num)\n",
    "    \n",
    "    if '.' in num_str:\n",
    "        int_part, dec_part = num_str.split('.')\n",
    "        flipped_num = int_part[::-1] + '.' + dec_part[::-1]\n",
    "        return float(flipped_num)\n",
    "    else:\n",
    "        flipped_num = num_str[::-1]\n",
    "        return int(flipped_num)\n",
    "    \n",
    "   \n",
    "\n",
    "print(flip_number(1234))       # 4321\n",
    "print(flip_number(1234.567))   # 4321.765\n",
    "print(flip_number(\"5678.123\")) # 8765.321\n",
    "print(flip_number(\"9876\"))     # 6789\n"
   ]
  },
  {
   "cell_type": "code",
   "execution_count": 38,
   "metadata": {},
   "outputs": [
    {
     "name": "stdout",
     "output_type": "stream",
     "text": [
      "10 celsius equal to 50.0 fahrenheit \n",
      "10.3 celsius equal to 50.54 fahrenheit \n"
     ]
    }
   ],
   "source": [
    "def celsius_to_fahrenheit(celsius):\n",
    "    return (celsius * 9) / 5 + 32\n",
    "\n",
    "\n",
    "print(f\"10 celsius equal to {celsius_to_fahrenheit(10)} fahrenheit \")\n",
    "print(f\"10.3 celsius equal to {celsius_to_fahrenheit(10.3)} fahrenheit \")"
   ]
  },
  {
   "cell_type": "code",
   "execution_count": null,
   "metadata": {},
   "outputs": [
    {
     "name": "stdout",
     "output_type": "stream",
     "text": [
      "1400 is not a leap year.\n"
     ]
    }
   ],
   "source": [
    "def is_leap_year(year):\n",
    "    if (year % 4 == 0 and year % 100 != 0) or (year % 400 == 0):\n",
    "        return True\n",
    "    return False\n",
    "\n",
    "print(is_leap_year(2024))\n",
    "print(is_leap_year(2000))\n",
    "print(is_leap_year(400))\n",
    "print(is_leap_year(1400))\n"
   ]
  },
  {
   "cell_type": "code",
   "execution_count": null,
   "metadata": {},
   "outputs": [
    {
     "name": "stdout",
     "output_type": "stream",
     "text": [
      "Password must contain at least one special character (@, #, &, %).\n",
      "Password is ok\n"
     ]
    }
   ],
   "source": [
    "def is_password_ok(password):\n",
    "    if len(password) < 8:\n",
    "        return \"Password length must be at least 8\"\n",
    "    \n",
    "    hasUpper = False\n",
    "    hasLower = False\n",
    "    hasDigit = False\n",
    "    hasSpecialChar = False\n",
    "    \n",
    "    for c in password:\n",
    "        if c.islower():  \n",
    "            hasLower = True\n",
    "        if c.isupper(): \n",
    "            hasUpper = True\n",
    "        if c.isdigit(): \n",
    "            hasDigit = True\n",
    "        if c in \"@#&%\":  \n",
    "            hasSpecialChar = True\n",
    "    \n",
    "    if not hasLower:\n",
    "        return \"Password must contain at least one lowercase letter.\"\n",
    "    if not hasUpper:\n",
    "        return \"Password must contain at least one uppercase letter.\"\n",
    "    if not hasDigit:\n",
    "        return \"Password must contain at least one digit.\"\n",
    "    if not hasSpecialChar:\n",
    "        return \"Password must contain at least one special character (@, #, &, %).\"\n",
    "    \n",
    "    return \"Password is ok\"\n",
    "\n",
    "print(is_password_ok(\"oMer12!dsadsa\"))\n",
    "print(is_password_ok(\"oMer12#adsad\"))\n",
    "\n"
   ]
  },
  {
   "cell_type": "code",
   "execution_count": 47,
   "metadata": {},
   "outputs": [
    {
     "name": "stdout",
     "output_type": "stream",
     "text": [
      "18\n",
      "28\n"
     ]
    }
   ],
   "source": [
    "def sum_of_divs(num):\n",
    "    if num <= 0:\n",
    "        return \"number must be positive\"\n",
    "\n",
    "    sum = 0\n",
    "    for i in range(1, num + 1):\n",
    "        if (num % i == 0):\n",
    "            sum += i\n",
    "    return sum\n",
    "\n",
    "print(sum_of_divs(10))\n",
    "print(sum_of_divs(12))\n"
   ]
  },
  {
   "cell_type": "code",
   "execution_count": 49,
   "metadata": {},
   "outputs": [
    {
     "name": "stdout",
     "output_type": "stream",
     "text": [
      "True\n",
      "False\n",
      "True\n",
      "False\n"
     ]
    }
   ],
   "source": [
    "def is_prime(n):\n",
    "    if n <= 1:\n",
    "        return False\n",
    "    \n",
    "    for i in range(2,n):\n",
    "        if (n % i == 0):\n",
    "            return False\n",
    "        \n",
    "    return True\n",
    "print(is_prime(11))\n",
    "print(is_prime(12))\n",
    "print(is_prime(13))\n",
    "print(is_prime(1))\n",
    "\n"
   ]
  },
  {
   "cell_type": "code",
   "execution_count": 52,
   "metadata": {},
   "outputs": [
    {
     "name": "stdout",
     "output_type": "stream",
     "text": [
      "True False\n"
     ]
    }
   ],
   "source": [
    "a = 55555\n",
    "b = 55555 \n",
    "print(a == b, a is b)"
   ]
  },
  {
   "cell_type": "code",
   "execution_count": null,
   "metadata": {},
   "outputs": [],
   "source": []
  }
 ],
 "metadata": {
  "kernelspec": {
   "display_name": "Python 3",
   "language": "python",
   "name": "python3"
  },
  "language_info": {
   "codemirror_mode": {
    "name": "ipython",
    "version": 3
   },
   "file_extension": ".py",
   "mimetype": "text/x-python",
   "name": "python",
   "nbconvert_exporter": "python",
   "pygments_lexer": "ipython3",
   "version": "3.8.10"
  }
 },
 "nbformat": 4,
 "nbformat_minor": 2
}
