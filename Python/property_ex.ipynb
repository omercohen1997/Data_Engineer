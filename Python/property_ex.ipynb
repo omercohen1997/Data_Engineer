{
 "cells": [
  {
   "cell_type": "code",
   "execution_count": 5,
   "metadata": {},
   "outputs": [
    {
     "name": "stdout",
     "output_type": "stream",
     "text": [
      "1\n",
      "2\n",
      "3\n"
     ]
    }
   ],
   "source": [
    "class X(object):\n",
    "    \"\"\"Example class\"\"\"\n",
    "    def __init__(self):\n",
    "        \"\"\"Init function for class X\"\"\"\n",
    "        self.a = 1         # Public attribute\n",
    "        self._a = 2        # Protected attribute (by convention)\n",
    "        self.__a = 3       # Private attribute (name mangling applied)\n",
    "    \n",
    "    def get_the_hidden_attribute(self):\n",
    "        return self.__a\n",
    "x = X()\n",
    "\n",
    "print(x.a)     # Accessing public attribute\n",
    "print(x._a)    # Accessing protected attribute\n",
    "print(x.get_the_hidden_attribute())\n"
   ]
  },
  {
   "cell_type": "code",
   "execution_count": 6,
   "metadata": {},
   "outputs": [
    {
     "name": "stdout",
     "output_type": "stream",
     "text": [
      "hello from get_a\n",
      "1\n"
     ]
    }
   ],
   "source": [
    "class X(object):\n",
    "    def __init__(self):\n",
    "        self.__a = 1  # Private attribute\n",
    "    \n",
    "    \n",
    "    def a(self):\n",
    "        print(\"hello from get_a\")  # Prints this message whenever `a` is accessed\n",
    "        return self.__a           # Returns the private attribute __a\n",
    "\n",
    "\n",
    "x = X()\n",
    "print(x.a())\n"
   ]
  },
  {
   "cell_type": "code",
   "execution_count": 7,
   "metadata": {},
   "outputs": [
    {
     "name": "stdout",
     "output_type": "stream",
     "text": [
      "Initial Point: (3, 4)\n",
      "Updated Point: (5, -2)\n",
      "X must be a an integer number.\n",
      "can't delete attribute\n"
     ]
    }
   ],
   "source": [
    "class Point:\n",
    "    def __init__(self,x=0,y=0):\n",
    "        self.x = x\n",
    "        self.y = y        \n",
    "        \n",
    "    @property\n",
    "    def x(self):\n",
    "        return self.__x\n",
    "    \n",
    "    @property\n",
    "    def y(self):\n",
    "        return self.__y\n",
    "    \n",
    "    @x.setter\n",
    "    def x(self, value):\n",
    "        if not isinstance(value, int):\n",
    "            raise ValueError(\"X must be a an integer number.\")\n",
    "        self.__x = value\n",
    "        \n",
    "\n",
    "    @y.setter\n",
    "    def y(self, value):\n",
    "        if not isinstance(value, int):\n",
    "            raise ValueError(\"Y must be an integer number.\")\n",
    "        self.__y = value    \n",
    "    \n",
    "    \n",
    "    \n",
    "# Test the Point class\n",
    "if __name__ == \"__main__\":\n",
    "    p = Point(3, 4)\n",
    "    print(f\"Initial Point: ({p.x}, {p.y})\")\n",
    "    \n",
    "    p.x = 5  # Modify the x-coordinate\n",
    "    p.y = -2  # Modify the y-coordinate\n",
    "    print(f\"Updated Point: ({p.x}, {p.y})\")\n",
    "\n",
    "    # Attempt to set invalid values\n",
    "    try:\n",
    "        p.x = \"invalid\"  # This should raise a ValueError\n",
    "    except ValueError as e:\n",
    "        print(e)\n",
    "    \n",
    "    try:\n",
    "        del p.x  # This should raise an AttributeError\n",
    "    except AttributeError as e:\n",
    "        print(e)\n"
   ]
  },
  {
   "cell_type": "code",
   "execution_count": 8,
   "metadata": {},
   "outputs": [
    {
     "name": "stdout",
     "output_type": "stream",
     "text": [
      "0\n"
     ]
    }
   ],
   "source": [
    "class X:\n",
    "    def __init__(self,val):\n",
    "        self.__x = int(val)\n",
    "    \n",
    "    @property\n",
    "    def x(self):\n",
    "        return self.__x\n",
    "    \n",
    "    \n",
    "print(X(0).x)"
   ]
  }
 ],
 "metadata": {
  "kernelspec": {
   "display_name": "Python 3",
   "language": "python",
   "name": "python3"
  },
  "language_info": {
   "codemirror_mode": {
    "name": "ipython",
    "version": 3
   },
   "file_extension": ".py",
   "mimetype": "text/x-python",
   "name": "python",
   "nbconvert_exporter": "python",
   "pygments_lexer": "ipython3",
   "version": "3.8.10"
  }
 },
 "nbformat": 4,
 "nbformat_minor": 2
}
