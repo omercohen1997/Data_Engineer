{
 "cells": [
  {
   "cell_type": "code",
   "execution_count": null,
   "metadata": {},
   "outputs": [],
   "source": [
    "import time\n",
    "\n",
    "def InfiniteRange():\n",
    "    i = 0\n",
    "    while(True):\n",
    "        yield i\n",
    "        i+=1\n",
    "    \n",
    "    \n",
    "    \n",
    "\"\"\"\n",
    "generate_number = InfiniteRange()\n",
    "for i in generate_number:\n",
    "    print(i)\n",
    "    time.sleep(0.5)  # Just so you can see what's happening\n",
    "\"\"\"\n",
    "generate_even_numbers = (i for i in InfiniteRange() if i % 2 == 0)\n",
    "\n",
    "# Print even numbers\n",
    "    \n",
    "print(\"DSADSAAS\")\n",
    "for i in  generate_even_numbers:\n",
    "    print(i)\n",
    "    time.sleep(0.5)\n",
    "    \n"
   ]
  },
  {
   "cell_type": "code",
   "execution_count": 20,
   "metadata": {},
   "outputs": [
    {
     "name": "stdout",
     "output_type": "stream",
     "text": [
      "0\n",
      "1\n",
      "2\n",
      "3\n",
      "4\n"
     ]
    },
    {
     "ename": "TypeError",
     "evalue": "Must be integer",
     "output_type": "error",
     "traceback": [
      "\u001b[0;31m---------------------------------------------------------------------------\u001b[0m",
      "\u001b[0;31mTypeError\u001b[0m                                 Traceback (most recent call last)",
      "Cell \u001b[0;32mIn[20], line 29\u001b[0m\n\u001b[1;32m     26\u001b[0m     \u001b[38;5;28mprint\u001b[39m(i)  \u001b[38;5;66;03m# Output: 0, 1, 2, 3\u001b[39;00m\n\u001b[1;32m     28\u001b[0m \u001b[38;5;28mprint\u001b[39m(\u001b[38;5;28mlen\u001b[39m(range_4))  \u001b[38;5;66;03m# Output: 4\u001b[39;00m\n\u001b[0;32m---> 29\u001b[0m range_5 \u001b[38;5;241m=\u001b[39m \u001b[43mMyRange\u001b[49m\u001b[43m(\u001b[49m\u001b[38;5;124;43m'\u001b[39;49m\u001b[38;5;124;43m5\u001b[39;49m\u001b[38;5;124;43m'\u001b[39;49m\u001b[43m)\u001b[49m\n",
      "Cell \u001b[0;32mIn[20], line 5\u001b[0m, in \u001b[0;36mMyRange.__init__\u001b[0;34m(self, range_n)\u001b[0m\n\u001b[1;32m      3\u001b[0m \u001b[38;5;28;01mdef\u001b[39;00m \u001b[38;5;21m__init__\u001b[39m(\u001b[38;5;28mself\u001b[39m, range_n):\n\u001b[1;32m      4\u001b[0m     \u001b[38;5;28;01mif\u001b[39;00m \u001b[38;5;129;01mnot\u001b[39;00m \u001b[38;5;28misinstance\u001b[39m(range_n, \u001b[38;5;28mint\u001b[39m):\n\u001b[0;32m----> 5\u001b[0m         \u001b[38;5;28;01mraise\u001b[39;00m \u001b[38;5;167;01mTypeError\u001b[39;00m(\u001b[38;5;124m\"\u001b[39m\u001b[38;5;124mMust be integer\u001b[39m\u001b[38;5;124m\"\u001b[39m)\n\u001b[1;32m      6\u001b[0m     \u001b[38;5;28mself\u001b[39m\u001b[38;5;241m.\u001b[39mrange_n \u001b[38;5;241m=\u001b[39m range_n\n\u001b[1;32m      7\u001b[0m     \u001b[38;5;28mself\u001b[39m\u001b[38;5;241m.\u001b[39mcurr \u001b[38;5;241m=\u001b[39m \u001b[38;5;241m0\u001b[39m\n",
      "\u001b[0;31mTypeError\u001b[0m: Must be integer"
     ]
    }
   ],
   "source": [
    "#without yield\n",
    "class MyRange:\n",
    "    def __init__(self, range_n):\n",
    "        if not isinstance(range_n, int):\n",
    "            raise TypeError(\"Must be integer\")\n",
    "        self.range_n = range_n\n",
    "        self.curr = 0\n",
    "        \n",
    "    def __iter__(self):\n",
    "        return self\n",
    "    \n",
    "    def __next__(self):\n",
    "        if self.range_n <= self.curr: \n",
    "            raise StopIteration()\n",
    "        \n",
    "        value = self.curr\n",
    "        self.curr += 1\n",
    "        return value\n",
    "    \n",
    "    def __len__(self):\n",
    "        return self.range_n\n",
    "    \n",
    "\n",
    "range_4 = MyRange(4)\n",
    "for i in range_4:\n",
    "    print(i)  # Output: 0, 1, 2, 3\n",
    "\n",
    "print(len(range_4))  # Output: 4\n",
    "range_5 = MyRange('5')\n",
    "\n",
    "\n",
    "\n"
   ]
  },
  {
   "cell_type": "code",
   "execution_count": 23,
   "metadata": {},
   "outputs": [
    {
     "name": "stdout",
     "output_type": "stream",
     "text": [
      "0\n",
      "1\n",
      "2\n",
      "3\n"
     ]
    }
   ],
   "source": [
    "#With yield\n",
    "class MyRange:\n",
    "    def __init__(self, range_n):\n",
    "        if not isinstance(range_n, int):\n",
    "            raise TypeError(\"Must be integer\")\n",
    "        self.range_n = range_n\n",
    "        \n",
    "      \n",
    "    \n",
    "    def __getitem__(self, index):\n",
    "        pass\n",
    "    \n",
    "\n",
    "def MyRangeGenerator(range_n):\n",
    "    curr = 0\n",
    "\n",
    "    while curr < range_n:\n",
    "        yield curr    \n",
    "        curr += 1\n",
    "\n",
    "range_4 = MyRangeGenerator(4)\n",
    "for i in range_4:\n",
    "    print(i)  # Output: 0, 1, 2, 3\n",
    "\n",
    "\n",
    "\n"
   ]
  },
  {
   "cell_type": "code",
   "execution_count": 25,
   "metadata": {},
   "outputs": [
    {
     "name": "stdout",
     "output_type": "stream",
     "text": [
      "14\n",
      "99\n",
      "Index out of range\n",
      "100\n"
     ]
    }
   ],
   "source": [
    "class MyRange:\n",
    "    def __init__(self, end):\n",
    "        # Validate that the input is an integer\n",
    "        if not isinstance(end, int):\n",
    "            raise TypeError(\"MyRange can only receive integers (int)\")\n",
    "        self.end = end\n",
    "\n",
    "    def __getitem__(self, index):\n",
    "        # Handle indexing for random access\n",
    "        if index < 0 or index >= self.end:\n",
    "            raise IndexError(\"Index out of range\")\n",
    "        return index\n",
    "\n",
    "    def __len__(self):\n",
    "        # Return the length of the range\n",
    "        return self.end\n",
    "# Create a MyRange object\n",
    "r = MyRange(100)\n",
    "\n",
    "# Random access\n",
    "print(r[14])  # Output: 14\n",
    "print(r[99])  # Output: 99\n",
    "\n",
    "# Out of bounds access\n",
    "try:\n",
    "    print(r[130])  # Raises IndexError\n",
    "except IndexError as e:\n",
    "    print(e)  # Output: Index out of range\n",
    "\n",
    "# Length\n",
    "print(len(r))  # Output: 100\n"
   ]
  },
  {
   "cell_type": "code",
   "execution_count": null,
   "metadata": {},
   "outputs": [],
   "source": []
  }
 ],
 "metadata": {
  "kernelspec": {
   "display_name": "Python 3",
   "language": "python",
   "name": "python3"
  },
  "language_info": {
   "codemirror_mode": {
    "name": "ipython",
    "version": 3
   },
   "file_extension": ".py",
   "mimetype": "text/x-python",
   "name": "python",
   "nbconvert_exporter": "python",
   "pygments_lexer": "ipython3",
   "version": "3.8.10"
  }
 },
 "nbformat": 4,
 "nbformat_minor": 2
}
